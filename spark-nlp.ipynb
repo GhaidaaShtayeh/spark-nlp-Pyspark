{
  "nbformat": 4,
  "nbformat_minor": 0,
  "metadata": {
    "colab": {
      "name": "Untitled2.ipynb",
      "provenance": [],
      "collapsed_sections": [],
      "authorship_tag": "ABX9TyPDVIXcPqge1wsHU3pXpZR/",
      "include_colab_link": true
    },
    "kernelspec": {
      "name": "python3",
      "display_name": "Python 3"
    },
    "language_info": {
      "name": "python"
    }
  },
  "cells": [
    {
      "cell_type": "markdown",
      "metadata": {
        "id": "view-in-github",
        "colab_type": "text"
      },
      "source": [
        "<a href=\"https://colab.research.google.com/github/GhaidaaShtayeh/spark-nlp-Pyspark/blob/master/spark-nlp.ipynb\" target=\"_parent\"><img src=\"https://colab.research.google.com/assets/colab-badge.svg\" alt=\"Open In Colab\"/></a>"
      ]
    },
    {
      "cell_type": "code",
      "execution_count": null,
      "metadata": {
        "id": "T-uJyoHVzw5R"
      },
      "outputs": [],
      "source": [
        "pip install -q pyspark==3.1.2 spark-nlp"
      ]
    },
    {
      "cell_type": "code",
      "source": [
        "import os\n",
        "\n",
        "# Install java\n",
        "! apt-get update -qq\n",
        "! apt-get install -y openjdk-8-jdk-headless -qq > /dev/null\n",
        "\n",
        "!wget -q https://archive.apache.org/dist/spark/spark-2.3.0/spark-2.3.0-bin-hadoop2.7.tgz\n",
        "\n",
        "!tar xf spark-2.3.0-bin-hadoop2.7.tgz\n",
        "!pip install -q findspark\n",
        "\n",
        "os.environ[\"JAVA_HOME\"] = \"/usr/lib/jvm/java-8-openjdk-amd64\"\n",
        "os.environ[\"PATH\"] = os.environ[\"JAVA_HOME\"] + \"/bin:\" + os.environ[\"PATH\"]\n",
        "os.environ[\"SPARK_HOME\"] = \"/content/spark-2.3.0-bin-hadoop2.7\"\n",
        "! java -version\n",
        "\n",
        "import findspark\n",
        "findspark.init()\n",
        "from pyspark.sql import SparkSession\n",
        "\n",
        "! pip install --ignore-installed -q spark-nlp==2.7.5\n",
        "\n",
        "import sparknlp\n",
        "\n",
        "spark = sparknlp.start(spark23=True)"
      ],
      "metadata": {
        "colab": {
          "base_uri": "https://localhost:8080/"
        },
        "id": "4GxSPzL-zzP5",
        "outputId": "c9eda4b9-de09-4908-aff6-5f8d4f97cbcf"
      },
      "execution_count": null,
      "outputs": [
        {
          "output_type": "stream",
          "name": "stdout",
          "text": [
            "openjdk version \"1.8.0_312\"\n",
            "OpenJDK Runtime Environment (build 1.8.0_312-8u312-b07-0ubuntu1~18.04-b07)\n",
            "OpenJDK 64-Bit Server VM (build 25.312-b07, mixed mode)\n"
          ]
        }
      ]
    },
    {
      "cell_type": "code",
      "source": [
        "import sparknlp\n",
        "\n",
        "spark = sparknlp.start()"
      ],
      "metadata": {
        "id": "OyH3z60K0Bde"
      },
      "execution_count": null,
      "outputs": []
    },
    {
      "cell_type": "code",
      "source": [
        "from google.colab import drive\n",
        "drive.mount('/content/drive')"
      ],
      "metadata": {
        "colab": {
          "base_uri": "https://localhost:8080/"
        },
        "id": "o5RzRGgY0d19",
        "outputId": "5c86b510-e944-4e0b-c6ac-06227b9c0ffc"
      },
      "execution_count": null,
      "outputs": [
        {
          "output_type": "stream",
          "name": "stdout",
          "text": [
            "Drive already mounted at /content/drive; to attempt to forcibly remount, call drive.mount(\"/content/drive\", force_remount=True).\n"
          ]
        }
      ]
    },
    {
      "cell_type": "code",
      "source": [
        "from sparknlp.base import *\n",
        "from sparknlp.annotator import *\n",
        "from sparknlp.embeddings import *\n",
        "from pyspark.sql import SparkSession\n",
        "from pyspark.sql.functions import pandas_udf, PandasUDFType\n",
        "from pyspark.sql.types import *\n",
        "import pandas as pd\n",
        "import pyspark\n",
        "\n",
        "spark = pyspark.sql.SparkSession \\\n",
        "    .builder \\\n",
        "    .master('local[*]') \\\n",
        "    .appName(\"Assignment-BONUS\") \\\n",
        "    .getOrCreate()\n",
        "    \n",
        "Data = spark.read.parquet(\"/content/drive/MyDrive/spark_nlp_dataset.parquet\")"
      ],
      "metadata": {
        "id": "Y4_nNy1i0hv7"
      },
      "execution_count": null,
      "outputs": []
    },
    {
      "cell_type": "code",
      "source": [
        "Data.show(truncate = False)"
      ],
      "metadata": {
        "colab": {
          "base_uri": "https://localhost:8080/"
        },
        "id": "kPcXG8870we-",
        "outputId": "a0e5fff6-9d89-4950-ae41-288ab221d4aa"
      },
      "execution_count": null,
      "outputs": [
        {
          "output_type": "stream",
          "name": "stdout",
          "text": [
            "+----------------------------------------------------------------------------------------------------------------------------------------------------------------------------------------------------+\n",
            "|text                                                                                                                                                                                                |\n",
            "+----------------------------------------------------------------------------------------------------------------------------------------------------------------------------------------------------+\n",
            "|Reuters historical calendar - September 7 .                                                                                                                                                         |\n",
            "|Following are some of the major events to have occurred on September 7 in history .                                                                                                                 |\n",
            "|1714 - The Treaty of Baden was signed between the Holy Roman Emperor Charles VI and France , ending War of Spanish Succession .                                                                     |\n",
            "|1812 - Russian army under General Kutuzov was defeated at heavy cost by Napoleon at the battle of Borodino 70 miles west of Moscow .                                                                |\n",
            "|Napoleon entered Moscow a week later .                                                                                                                                                              |\n",
            "|1822 - Brazil proclaimed independence from Portugal and Pedro I became first Emperor of Brazil in December 1822 .                                                                                   |\n",
            "|As Liberal prime minister 1905-1908 he granted self-government to the Transvaal .                                                                                                                   |\n",
            "|1860 - Giuseppe Garibaldi leading his \" Red Shirts \" seized Naples in the Italian war of liberation against the Austrians .                                                                         |\n",
            "|1901 - In China , the Boxer Rising which attempted to drive out all foreigners officially ended with the signing of the Peking Protocol .                                                           |\n",
            "|1909 - Elia Kazan born as Elia Kazanjoglus .                                                                                                                                                        |\n",
            "|1913 - Sir Anthony Quayle born .                                                                                                                                                                    |\n",
            "|He succeeded to the throne in 1951 on the abdication of his father Leopold III .                                                                                                                    |\n",
            "|1969 - Scottish motor racing driver Jackie Stewart won the Italian Grand Prix to secure his first world championship .                                                                              |\n",
            "|Four years later , after winning his third world crown , he announced his retirement .                                                                                                              |\n",
            "|1986 - Bishop Desmond Tutu was enthroned as Archbishop of Cape Town , South Africa .                                                                                                                |\n",
            "|He was the first black head of South Africa 's Anglicans .                                                                                                                                          |\n",
            "|1990 - The United States won Saudi and Kuwaiti pledges to help pay for forces in the Gulf .                                                                                                         |\n",
            "|He won acclaim for the insights that he gave into the events which shaped modern Europe and was one of Europe 's leading authorities on the great conflicts of the 20th century .                   |\n",
            "|1993 - Six former Soviet republics , Russia , Belarus , Kazakhstan , Uzbekistan , Armenia and Tajikistan , signed framework agreement to keep the Russian rouble as their common currency .         |\n",
            "|1994 - The Stars and Stripes flag was lowered for the last time over U.S. army headquarters in Berlin , formally ending the American presence in the once-divided city after nearly half a century .|\n",
            "+----------------------------------------------------------------------------------------------------------------------------------------------------------------------------------------------------+\n",
            "only showing top 20 rows\n",
            "\n"
          ]
        }
      ]
    },
    {
      "cell_type": "code",
      "source": [
        "documentAssemble = DocumentAssembler().setInputCol('text').setOutputCol('document').setCleanupMode('shrink')"
      ],
      "metadata": {
        "id": "VNWA4ZeI0za7"
      },
      "execution_count": null,
      "outputs": []
    },
    {
      "cell_type": "code",
      "source": [
        "sentenceDetector = SentenceDetector().setInputCols(['document']).setOutputCol('sentence')"
      ],
      "metadata": {
        "id": "XMpPYHCm04v4"
      },
      "execution_count": null,
      "outputs": []
    },
    {
      "cell_type": "code",
      "source": [
        "tokenizer = Tokenizer().setInputCols(\"document\").setOutputCol(\"token\")"
      ],
      "metadata": {
        "id": "EpD0foxR07aO"
      },
      "execution_count": null,
      "outputs": []
    },
    {
      "cell_type": "code",
      "source": [
        "embedding = WordEmbeddingsModel.pretrained(lang=\"en\")"
      ],
      "metadata": {
        "colab": {
          "base_uri": "https://localhost:8080/"
        },
        "id": "mm3Vq5S10914",
        "outputId": "8338f9f9-a2ed-4f0a-9b3c-480915226783"
      },
      "execution_count": null,
      "outputs": [
        {
          "output_type": "stream",
          "name": "stdout",
          "text": [
            "glove_100d download started this may take some time.\n",
            "Approximate size to download 145.3 MB\n",
            "[OK!]\n"
          ]
        }
      ]
    },
    {
      "cell_type": "code",
      "source": [
        "posTagger = PerceptronModel.pretrained(lang=\"en\")"
      ],
      "metadata": {
        "colab": {
          "base_uri": "https://localhost:8080/"
        },
        "id": "o7ytyN-e1BoS",
        "outputId": "385334a6-59ff-4afd-93b7-4eed7607747b"
      },
      "execution_count": null,
      "outputs": [
        {
          "output_type": "stream",
          "name": "stdout",
          "text": [
            "pos_anc download started this may take some time.\n",
            "Approximate size to download 4.3 MB\n",
            "[OK!]\n"
          ]
        }
      ]
    },
    {
      "cell_type": "code",
      "source": [
        "ner = NerCrfModel.pretrained(lang=\"en\")"
      ],
      "metadata": {
        "colab": {
          "base_uri": "https://localhost:8080/"
        },
        "id": "6Y6_dRGD1JPG",
        "outputId": "505b67ef-225f-46d8-b7e6-a4a21340de78"
      },
      "execution_count": null,
      "outputs": [
        {
          "output_type": "stream",
          "name": "stdout",
          "text": [
            "ner_crf download started this may take some time.\n",
            "Approximate size to download 10.1 MB\n",
            "[OK!]\n"
          ]
        }
      ]
    },
    {
      "cell_type": "code",
      "source": [
        "from pyspark.ml import Pipeline\n",
        "\n",
        "pipeline = Pipeline().setStages([documentAssemble, sentenceDetector, tokenizer, embedding, posTagger, ner])"
      ],
      "metadata": {
        "id": "pboHvqZE1NO_"
      },
      "execution_count": null,
      "outputs": []
    },
    {
      "cell_type": "code",
      "source": [
        "processed_data = pipeline.fit(Data).transform(Data)"
      ],
      "metadata": {
        "id": "m7lgXT7P1TX7"
      },
      "execution_count": null,
      "outputs": []
    },
    {
      "cell_type": "code",
      "source": [
        "processed_data.show()"
      ],
      "metadata": {
        "colab": {
          "base_uri": "https://localhost:8080/"
        },
        "id": "nvhfsahj1WG-",
        "outputId": "9da691d9-8843-42ed-aeed-f6fbb5702440"
      },
      "execution_count": null,
      "outputs": [
        {
          "output_type": "stream",
          "name": "stdout",
          "text": [
            "+--------------------+--------------------+--------------------+--------------------+--------------------+--------------------+--------------------+\n",
            "|                text|            document|            sentence|               token|          embeddings|                 pos|                 ner|\n",
            "+--------------------+--------------------+--------------------+--------------------+--------------------+--------------------+--------------------+\n",
            "|Reuters historica...|[[document, 0, 42...|[[document, 0, 42...|[[token, 0, 6, Re...|[[word_embeddings...|[[pos, 0, 6, NNP,...|[[named_entity, 0...|\n",
            "|Following are som...|[[document, 0, 82...|[[document, 0, 82...|[[token, 0, 8, Fo...|[[word_embeddings...|[[pos, 0, 8, VBG,...|[[named_entity, 0...|\n",
            "|1714 - The Treaty...|[[document, 0, 12...|[[document, 0, 12...|[[token, 0, 3, 17...|[[word_embeddings...|[[pos, 0, 3, CD, ...|[[named_entity, 0...|\n",
            "|1812 - Russian ar...|[[document, 0, 13...|[[document, 0, 13...|[[token, 0, 3, 18...|[[word_embeddings...|[[pos, 0, 3, CD, ...|[[named_entity, 0...|\n",
            "|Napoleon entered ...|[[document, 0, 37...|[[document, 0, 37...|[[token, 0, 7, Na...|[[word_embeddings...|[[pos, 0, 7, NNP,...|[[named_entity, 0...|\n",
            "|1822 - Brazil pro...|[[document, 0, 11...|[[document, 0, 11...|[[token, 0, 3, 18...|[[word_embeddings...|[[pos, 0, 3, CD, ...|[[named_entity, 0...|\n",
            "|As Liberal prime ...|[[document, 0, 80...|[[document, 0, 80...|[[token, 0, 1, As...|[[word_embeddings...|[[pos, 0, 1, IN, ...|[[named_entity, 0...|\n",
            "|1860 - Giuseppe G...|[[document, 0, 12...|[[document, 0, 12...|[[token, 0, 3, 18...|[[word_embeddings...|[[pos, 0, 3, CD, ...|[[named_entity, 0...|\n",
            "|1901 - In China ,...|[[document, 0, 13...|[[document, 0, 13...|[[token, 0, 3, 19...|[[word_embeddings...|[[pos, 0, 3, CD, ...|[[named_entity, 0...|\n",
            "|1909 - Elia Kazan...|[[document, 0, 43...|[[document, 0, 43...|[[token, 0, 3, 19...|[[word_embeddings...|[[pos, 0, 3, CD, ...|[[named_entity, 0...|\n",
            "|1913 - Sir Anthon...|[[document, 0, 31...|[[document, 0, 31...|[[token, 0, 3, 19...|[[word_embeddings...|[[pos, 0, 3, CD, ...|[[named_entity, 0...|\n",
            "|He succeeded to t...|[[document, 0, 79...|[[document, 0, 79...|[[token, 0, 1, He...|[[word_embeddings...|[[pos, 0, 1, PRP,...|[[named_entity, 0...|\n",
            "|1969 - Scottish m...|[[document, 0, 11...|[[document, 0, 11...|[[token, 0, 3, 19...|[[word_embeddings...|[[pos, 0, 3, CD, ...|[[named_entity, 0...|\n",
            "|Four years later ...|[[document, 0, 85...|[[document, 0, 85...|[[token, 0, 3, Fo...|[[word_embeddings...|[[pos, 0, 3, CD, ...|[[named_entity, 0...|\n",
            "|1986 - Bishop Des...|[[document, 0, 83...|[[document, 0, 83...|[[token, 0, 3, 19...|[[word_embeddings...|[[pos, 0, 3, CD, ...|[[named_entity, 0...|\n",
            "|He was the first ...|[[document, 0, 57...|[[document, 0, 57...|[[token, 0, 1, He...|[[word_embeddings...|[[pos, 0, 1, PRP,...|[[named_entity, 0...|\n",
            "|1990 - The United...|[[document, 0, 90...|[[document, 0, 90...|[[token, 0, 3, 19...|[[word_embeddings...|[[pos, 0, 3, CD, ...|[[named_entity, 0...|\n",
            "|He won acclaim fo...|[[document, 0, 17...|[[document, 0, 17...|[[token, 0, 1, He...|[[word_embeddings...|[[pos, 0, 1, PRP,...|[[named_entity, 0...|\n",
            "|1993 - Six former...|[[document, 0, 18...|[[document, 0, 18...|[[token, 0, 3, 19...|[[word_embeddings...|[[pos, 0, 3, CD, ...|[[named_entity, 0...|\n",
            "|1994 - The Stars ...|[[document, 0, 19...|[[document, 0, 19...|[[token, 0, 3, 19...|[[word_embeddings...|[[pos, 0, 3, CD, ...|[[named_entity, 0...|\n",
            "+--------------------+--------------------+--------------------+--------------------+--------------------+--------------------+--------------------+\n",
            "only showing top 20 rows\n",
            "\n"
          ]
        }
      ]
    },
    {
      "cell_type": "code",
      "source": [
        "processed_data.select('pos', 'ner').limit(5).show(truncate = False)"
      ],
      "metadata": {
        "colab": {
          "base_uri": "https://localhost:8080/"
        },
        "id": "Pme8AwDK10Fn",
        "outputId": "b8bbce3e-b9c8-48bb-cb9f-870c30a38b35"
      },
      "execution_count": null,
      "outputs": [
        {
          "output_type": "stream",
          "name": "stdout",
          "text": [
            "+-------------------------------------------------------------------------------------------------------------------------------------------------------------------------------------------------------------------------------------------------------------------------------------------------------------------------------------------------------------------------------------------------------------------------------------------------------------------------------------------------------------------------------------------------------------------------------------------------------------------------------------------------------------------------------------------------------------------------------------------------------------------------------------------------------------------------------------------------------------------------------------------------------------------------------------------------------------------------------------------------------------------------------------+------------------------------------------------------------------------------------------------------------------------------------------------------------------------------------------------------------------------------------------------------------------------------------------------------------------------------------------------------------------------------------------------------------------------------------------------------------------------------------------------------------------------------------------------------------------------------------------------------------------------------------------------------------------------------------------------------------------------------------------------------------------------------------------------------------------------------------------------------------------------------------------------------------------------------------------------------------------------------------------------------------------------------------------------------------------------------------------------------------------------------------------------------------------------------------------------------------------------------------------------------------+\n",
            "|pos                                                                                                                                                                                                                                                                                                                                                                                                                                                                                                                                                                                                                                                                                                                                                                                                                                                                                                                                                                                                                                  |ner                                                                                                                                                                                                                                                                                                                                                                                                                                                                                                                                                                                                                                                                                                                                                                                                                                                                                                                                                                                                                                                                                                                                                                                                                                                         |\n",
            "+-------------------------------------------------------------------------------------------------------------------------------------------------------------------------------------------------------------------------------------------------------------------------------------------------------------------------------------------------------------------------------------------------------------------------------------------------------------------------------------------------------------------------------------------------------------------------------------------------------------------------------------------------------------------------------------------------------------------------------------------------------------------------------------------------------------------------------------------------------------------------------------------------------------------------------------------------------------------------------------------------------------------------------------+------------------------------------------------------------------------------------------------------------------------------------------------------------------------------------------------------------------------------------------------------------------------------------------------------------------------------------------------------------------------------------------------------------------------------------------------------------------------------------------------------------------------------------------------------------------------------------------------------------------------------------------------------------------------------------------------------------------------------------------------------------------------------------------------------------------------------------------------------------------------------------------------------------------------------------------------------------------------------------------------------------------------------------------------------------------------------------------------------------------------------------------------------------------------------------------------------------------------------------------------------------+\n",
            "|[[pos, 0, 6, NNP, [word -> Reuters], []], [pos, 8, 17, JJ, [word -> historical], []], [pos, 19, 26, NN, [word -> calendar], []], [pos, 28, 28, -, [word -> -], []], [pos, 30, 38, NNP, [word -> September], []], [pos, 40, 40, CD, [word -> 7], []], [pos, 42, 42, ., [word -> .], []]]                                                                                                                                                                                                                                                                                                                                                                                                                                                                                                                                                                                                                                                                                                                                              |[[named_entity, 0, 6, I-ORG, [word -> Reuters], []], [named_entity, 8, 17, O, [word -> historical], []], [named_entity, 19, 26, O, [word -> calendar], []], [named_entity, 28, 28, O, [word -> -], []], [named_entity, 30, 38, O, [word -> September], []], [named_entity, 40, 40, O, [word -> 7], []], [named_entity, 42, 42, O, [word -> .], []]]                                                                                                                                                                                                                                                                                                                                                                                                                                                                                                                                                                                                                                                                                                                                                                                                                                                                                                         |\n",
            "|[[pos, 0, 8, VBG, [word -> Following], []], [pos, 10, 12, VBP, [word -> are], []], [pos, 14, 17, DT, [word -> some], []], [pos, 19, 20, IN, [word -> of], []], [pos, 22, 24, DT, [word -> the], []], [pos, 26, 30, JJ, [word -> major], []], [pos, 32, 37, NNS, [word -> events], []], [pos, 39, 40, TO, [word -> to], []], [pos, 42, 45, VB, [word -> have], []], [pos, 47, 54, VBN, [word -> occurred], []], [pos, 56, 57, IN, [word -> on], []], [pos, 59, 67, NNP, [word -> September], []], [pos, 69, 69, CD, [word -> 7], []], [pos, 71, 72, IN, [word -> in], []], [pos, 74, 80, NN, [word -> history], []], [pos, 82, 82, ., [word -> .], []]]                                                                                                                                                                                                                                                                                                                                                                               |[[named_entity, 0, 8, O, [word -> Following], []], [named_entity, 10, 12, O, [word -> are], []], [named_entity, 14, 17, O, [word -> some], []], [named_entity, 19, 20, O, [word -> of], []], [named_entity, 22, 24, O, [word -> the], []], [named_entity, 26, 30, O, [word -> major], []], [named_entity, 32, 37, O, [word -> events], []], [named_entity, 39, 40, O, [word -> to], []], [named_entity, 42, 45, O, [word -> have], []], [named_entity, 47, 54, O, [word -> occurred], []], [named_entity, 56, 57, O, [word -> on], []], [named_entity, 59, 67, O, [word -> September], []], [named_entity, 69, 69, O, [word -> 7], []], [named_entity, 71, 72, O, [word -> in], []], [named_entity, 74, 80, O, [word -> history], []], [named_entity, 82, 82, O, [word -> .], []]]                                                                                                                                                                                                                                                                                                                                                                                                                                                                          |\n",
            "|[[pos, 0, 3, CD, [word -> 1714], []], [pos, 5, 5, :, [word -> -], []], [pos, 7, 9, DT, [word -> The], []], [pos, 11, 16, NNP, [word -> Treaty], []], [pos, 18, 19, IN, [word -> of], []], [pos, 21, 25, NNP, [word -> Baden], []], [pos, 27, 29, VBD, [word -> was], []], [pos, 31, 36, VBN, [word -> signed], []], [pos, 38, 44, IN, [word -> between], []], [pos, 46, 48, DT, [word -> the], []], [pos, 50, 53, NNP, [word -> Holy], []], [pos, 55, 59, NNP, [word -> Roman], []], [pos, 61, 67, NNP, [word -> Emperor], []], [pos, 69, 75, NNP, [word -> Charles], []], [pos, 77, 78, NNP, [word -> VI], []], [pos, 80, 82, CC, [word -> and], []], [pos, 84, 89, NNP, [word -> France], []], [pos, 91, 91, ,, [word -> ,], []], [pos, 93, 98, VBG, [word -> ending], []], [pos, 100, 102, NNP, [word -> War], []], [pos, 104, 105, IN, [word -> of], []], [pos, 107, 113, JJ, [word -> Spanish], []], [pos, 115, 124, NNP, [word -> Succession], []], [pos, 126, 126, ., [word -> .], []]]                                       |[[named_entity, 0, 3, O, [word -> 1714], []], [named_entity, 5, 5, O, [word -> -], []], [named_entity, 7, 9, O, [word -> The], []], [named_entity, 11, 16, I-ORG, [word -> Treaty], []], [named_entity, 18, 19, O, [word -> of], []], [named_entity, 21, 25, I-LOC, [word -> Baden], []], [named_entity, 27, 29, O, [word -> was], []], [named_entity, 31, 36, O, [word -> signed], []], [named_entity, 38, 44, O, [word -> between], []], [named_entity, 46, 48, O, [word -> the], []], [named_entity, 50, 53, I-MISC, [word -> Holy], []], [named_entity, 55, 59, I-MISC, [word -> Roman], []], [named_entity, 61, 67, O, [word -> Emperor], []], [named_entity, 69, 75, I-PER, [word -> Charles], []], [named_entity, 77, 78, I-PER, [word -> VI], []], [named_entity, 80, 82, O, [word -> and], []], [named_entity, 84, 89, I-LOC, [word -> France], []], [named_entity, 91, 91, O, [word -> ,], []], [named_entity, 93, 98, O, [word -> ending], []], [named_entity, 100, 102, O, [word -> War], []], [named_entity, 104, 105, O, [word -> of], []], [named_entity, 107, 113, I-MISC, [word -> Spanish], []], [named_entity, 115, 124, O, [word -> Succession], []], [named_entity, 126, 126, O, [word -> .], []]]                                     |\n",
            "|[[pos, 0, 3, CD, [word -> 1812], []], [pos, 5, 5, :, [word -> -], []], [pos, 7, 13, JJ, [word -> Russian], []], [pos, 15, 18, NN, [word -> army], []], [pos, 20, 24, IN, [word -> under], []], [pos, 26, 32, NNP, [word -> General], []], [pos, 34, 40, NNP, [word -> Kutuzov], []], [pos, 42, 44, VBD, [word -> was], []], [pos, 46, 53, VBN, [word -> defeated], []], [pos, 55, 56, IN, [word -> at], []], [pos, 58, 62, JJ, [word -> heavy], []], [pos, 64, 67, NN, [word -> cost], []], [pos, 69, 70, IN, [word -> by], []], [pos, 72, 79, NNP, [word -> Napoleon], []], [pos, 81, 82, IN, [word -> at], []], [pos, 84, 86, DT, [word -> the], []], [pos, 88, 93, NN, [word -> battle], []], [pos, 95, 96, IN, [word -> of], []], [pos, 98, 105, NNP, [word -> Borodino], []], [pos, 107, 108, CD, [word -> 70], []], [pos, 110, 114, NNS, [word -> miles], []], [pos, 116, 119, NN, [word -> west], []], [pos, 121, 122, IN, [word -> of], []], [pos, 124, 129, NNP, [word -> Moscow], []], [pos, 131, 131, ., [word -> .], []]]|[[named_entity, 0, 3, O, [word -> 1812], []], [named_entity, 5, 5, O, [word -> -], []], [named_entity, 7, 13, I-MISC, [word -> Russian], []], [named_entity, 15, 18, O, [word -> army], []], [named_entity, 20, 24, O, [word -> under], []], [named_entity, 26, 32, O, [word -> General], []], [named_entity, 34, 40, I-PER, [word -> Kutuzov], []], [named_entity, 42, 44, O, [word -> was], []], [named_entity, 46, 53, O, [word -> defeated], []], [named_entity, 55, 56, O, [word -> at], []], [named_entity, 58, 62, O, [word -> heavy], []], [named_entity, 64, 67, O, [word -> cost], []], [named_entity, 69, 70, O, [word -> by], []], [named_entity, 72, 79, I-PER, [word -> Napoleon], []], [named_entity, 81, 82, O, [word -> at], []], [named_entity, 84, 86, O, [word -> the], []], [named_entity, 88, 93, O, [word -> battle], []], [named_entity, 95, 96, O, [word -> of], []], [named_entity, 98, 105, I-LOC, [word -> Borodino], []], [named_entity, 107, 108, O, [word -> 70], []], [named_entity, 110, 114, O, [word -> miles], []], [named_entity, 116, 119, O, [word -> west], []], [named_entity, 121, 122, O, [word -> of], []], [named_entity, 124, 129, I-LOC, [word -> Moscow], []], [named_entity, 131, 131, O, [word -> .], []]]|\n",
            "|[[pos, 0, 7, NNP, [word -> Napoleon], []], [pos, 9, 15, VBD, [word -> entered], []], [pos, 17, 22, NNP, [word -> Moscow], []], [pos, 24, 24, DT, [word -> a], []], [pos, 26, 29, NN, [word -> week], []], [pos, 31, 35, RB, [word -> later], []], [pos, 37, 37, ., [word -> .], []]]                                                                                                                                                                                                                                                                                                                                                                                                                                                                                                                                                                                                                                                                                                                                                 |[[named_entity, 0, 7, I-PER, [word -> Napoleon], []], [named_entity, 9, 15, O, [word -> entered], []], [named_entity, 17, 22, I-LOC, [word -> Moscow], []], [named_entity, 24, 24, O, [word -> a], []], [named_entity, 26, 29, O, [word -> week], []], [named_entity, 31, 35, O, [word -> later], []], [named_entity, 37, 37, O, [word -> .], []]]                                                                                                                                                                                                                                                                                                                                                                                                                                                                                                                                                                                                                                                                                                                                                                                                                                                                                                          |\n",
            "+-------------------------------------------------------------------------------------------------------------------------------------------------------------------------------------------------------------------------------------------------------------------------------------------------------------------------------------------------------------------------------------------------------------------------------------------------------------------------------------------------------------------------------------------------------------------------------------------------------------------------------------------------------------------------------------------------------------------------------------------------------------------------------------------------------------------------------------------------------------------------------------------------------------------------------------------------------------------------------------------------------------------------------------+------------------------------------------------------------------------------------------------------------------------------------------------------------------------------------------------------------------------------------------------------------------------------------------------------------------------------------------------------------------------------------------------------------------------------------------------------------------------------------------------------------------------------------------------------------------------------------------------------------------------------------------------------------------------------------------------------------------------------------------------------------------------------------------------------------------------------------------------------------------------------------------------------------------------------------------------------------------------------------------------------------------------------------------------------------------------------------------------------------------------------------------------------------------------------------------------------------------------------------------------------------+\n",
            "\n"
          ]
        }
      ]
    },
    {
      "cell_type": "code",
      "source": [
        "processed_data.select('pos.result', 'ner.result').limit(2).show(truncate = False)"
      ],
      "metadata": {
        "colab": {
          "base_uri": "https://localhost:8080/"
        },
        "id": "wEdFfeK126T_",
        "outputId": "85e69993-de85-485e-8d60-56a108876ab4"
      },
      "execution_count": null,
      "outputs": [
        {
          "output_type": "stream",
          "name": "stdout",
          "text": [
            "+----------------------------------------------------------------------------------------------------------+-----------------------------------------------------------------------------------------------------------+\n",
            "|result                                                                                                    |result                                                                                                     |\n",
            "+----------------------------------------------------------------------------------------------------------+-----------------------------------------------------------------------------------------------------------+\n",
            "|[NNP, JJ, NN, -, NNP, CD, .]                                                                              |[I-ORG, O, O, O, O, O, O]                                                                                  |\n",
            "|[VBG, VBP, DT, IN, DT, JJ, NNS, TO, VB, VBN, IN, NNP, CD, IN, NN, .]                                      |[O, O, O, O, O, O, O, O, O, O, O, O, O, O, O, O]                                                           |\n",
            "|[CD, :, DT, NNP, IN, NNP, VBD, VBN, IN, DT, NNP, NNP, NNP, NNP, NNP, CC, NNP, ,, VBG, NNP, IN, JJ, NNP, .]|[O, O, O, I-ORG, O, I-LOC, O, O, O, O, I-MISC, I-MISC, O, I-PER, I-PER, O, I-LOC, O, O, O, O, I-MISC, O, O]|\n",
            "|[CD, :, JJ, NN, IN, NNP, NNP, VBD, VBN, IN, JJ, NN, IN, NNP, IN, DT, NN, IN, NNP, CD, NNS, NN, IN, NNP, .]|[O, O, I-MISC, O, O, O, I-PER, O, O, O, O, O, O, I-PER, O, O, O, O, I-LOC, O, O, O, O, I-LOC, O]           |\n",
            "|[NNP, VBD, NNP, DT, NN, RB, .]                                                                            |[I-PER, O, I-LOC, O, O, O, O]                                                                              |\n",
            "+----------------------------------------------------------------------------------------------------------+-----------------------------------------------------------------------------------------------------------+\n",
            "\n"
          ]
        }
      ]
    },
    {
      "cell_type": "code",
      "source": [
        "from pyspark.sql.functions import col\n",
        "from pyspark.sql.functions import explode\n",
        "ner = processed_data.select(explode(\"ner\")).select(col(\"col.result\").alias(\"ner\"))\n",
        "ner.show()"
      ],
      "metadata": {
        "colab": {
          "base_uri": "https://localhost:8080/"
        },
        "id": "qYLukFCXG4uG",
        "outputId": "2e9bd7d6-22cb-4ce5-de01-7fa9fda81483"
      },
      "execution_count": 88,
      "outputs": [
        {
          "output_type": "stream",
          "name": "stdout",
          "text": [
            "+-----+\n",
            "|  ner|\n",
            "+-----+\n",
            "|I-ORG|\n",
            "|    O|\n",
            "|    O|\n",
            "|    O|\n",
            "|    O|\n",
            "|    O|\n",
            "|    O|\n",
            "|    O|\n",
            "|    O|\n",
            "|    O|\n",
            "|    O|\n",
            "|    O|\n",
            "|    O|\n",
            "|    O|\n",
            "|    O|\n",
            "|    O|\n",
            "|    O|\n",
            "|    O|\n",
            "|    O|\n",
            "|    O|\n",
            "+-----+\n",
            "only showing top 20 rows\n",
            "\n"
          ]
        }
      ]
    },
    {
      "cell_type": "code",
      "source": [
        "pos = processed_data.select(explode(\"pos\")).select(col(\"col.result\").alias(\"pos\"))\n",
        "pos.show()"
      ],
      "metadata": {
        "colab": {
          "base_uri": "https://localhost:8080/"
        },
        "id": "32OfC8HNJ6tX",
        "outputId": "d39d0574-bc02-4e36-e8e8-45aa02302669"
      },
      "execution_count": 89,
      "outputs": [
        {
          "output_type": "stream",
          "name": "stdout",
          "text": [
            "+---+\n",
            "|pos|\n",
            "+---+\n",
            "|NNP|\n",
            "| JJ|\n",
            "| NN|\n",
            "|  -|\n",
            "|NNP|\n",
            "| CD|\n",
            "|  .|\n",
            "|VBG|\n",
            "|VBP|\n",
            "| DT|\n",
            "| IN|\n",
            "| DT|\n",
            "| JJ|\n",
            "|NNS|\n",
            "| TO|\n",
            "| VB|\n",
            "|VBN|\n",
            "| IN|\n",
            "|NNP|\n",
            "| CD|\n",
            "+---+\n",
            "only showing top 20 rows\n",
            "\n"
          ]
        }
      ]
    },
    {
      "cell_type": "code",
      "source": [
        "POS = pos.toPandas()\n",
        "NER = ner.toPandas()"
      ],
      "metadata": {
        "id": "tSXjTGmDz5-a"
      },
      "execution_count": 68,
      "outputs": []
    },
    {
      "cell_type": "code",
      "source": [
        "dataFrame_combine= pd.DataFrame()\n",
        "dataFrame_combine[\"ner\"] =NER[\"ner\"]\n",
        "dataFrame_combine[\"pos\"] =POS[\"pos\"]"
      ],
      "metadata": {
        "id": "vHHCcebdyhns"
      },
      "execution_count": 69,
      "outputs": []
    },
    {
      "cell_type": "code",
      "source": [
        "dataFrame_combine"
      ],
      "metadata": {
        "id": "B70oxLE60T6B",
        "colab": {
          "base_uri": "https://localhost:8080/",
          "height": 423
        },
        "outputId": "bee05e21-9150-4bb2-9843-f54293bd0c87"
      },
      "execution_count": 70,
      "outputs": [
        {
          "output_type": "execute_result",
          "data": {
            "text/html": [
              "\n",
              "  <div id=\"df-a3f46356-ed52-4e9c-a1d4-ae652db15084\">\n",
              "    <div class=\"colab-df-container\">\n",
              "      <div>\n",
              "<style scoped>\n",
              "    .dataframe tbody tr th:only-of-type {\n",
              "        vertical-align: middle;\n",
              "    }\n",
              "\n",
              "    .dataframe tbody tr th {\n",
              "        vertical-align: top;\n",
              "    }\n",
              "\n",
              "    .dataframe thead th {\n",
              "        text-align: right;\n",
              "    }\n",
              "</style>\n",
              "<table border=\"1\" class=\"dataframe\">\n",
              "  <thead>\n",
              "    <tr style=\"text-align: right;\">\n",
              "      <th></th>\n",
              "      <th>ner</th>\n",
              "      <th>pos</th>\n",
              "    </tr>\n",
              "  </thead>\n",
              "  <tbody>\n",
              "    <tr>\n",
              "      <th>0</th>\n",
              "      <td>I-ORG</td>\n",
              "      <td>NNP</td>\n",
              "    </tr>\n",
              "    <tr>\n",
              "      <th>1</th>\n",
              "      <td>O</td>\n",
              "      <td>JJ</td>\n",
              "    </tr>\n",
              "    <tr>\n",
              "      <th>2</th>\n",
              "      <td>O</td>\n",
              "      <td>NN</td>\n",
              "    </tr>\n",
              "    <tr>\n",
              "      <th>3</th>\n",
              "      <td>O</td>\n",
              "      <td>-</td>\n",
              "    </tr>\n",
              "    <tr>\n",
              "      <th>4</th>\n",
              "      <td>O</td>\n",
              "      <td>NNP</td>\n",
              "    </tr>\n",
              "    <tr>\n",
              "      <th>...</th>\n",
              "      <td>...</td>\n",
              "      <td>...</td>\n",
              "    </tr>\n",
              "    <tr>\n",
              "      <th>26185</th>\n",
              "      <td>O</td>\n",
              "      <td>NNP</td>\n",
              "    </tr>\n",
              "    <tr>\n",
              "      <th>26186</th>\n",
              "      <td>O</td>\n",
              "      <td>:</td>\n",
              "    </tr>\n",
              "    <tr>\n",
              "      <th>26187</th>\n",
              "      <td>O</td>\n",
              "      <td>NNP</td>\n",
              "    </tr>\n",
              "    <tr>\n",
              "      <th>26188</th>\n",
              "      <td>O</td>\n",
              "      <td>NNP</td>\n",
              "    </tr>\n",
              "    <tr>\n",
              "      <th>26189</th>\n",
              "      <td>O</td>\n",
              "      <td>NNP</td>\n",
              "    </tr>\n",
              "  </tbody>\n",
              "</table>\n",
              "<p>26190 rows × 2 columns</p>\n",
              "</div>\n",
              "      <button class=\"colab-df-convert\" onclick=\"convertToInteractive('df-a3f46356-ed52-4e9c-a1d4-ae652db15084')\"\n",
              "              title=\"Convert this dataframe to an interactive table.\"\n",
              "              style=\"display:none;\">\n",
              "        \n",
              "  <svg xmlns=\"http://www.w3.org/2000/svg\" height=\"24px\"viewBox=\"0 0 24 24\"\n",
              "       width=\"24px\">\n",
              "    <path d=\"M0 0h24v24H0V0z\" fill=\"none\"/>\n",
              "    <path d=\"M18.56 5.44l.94 2.06.94-2.06 2.06-.94-2.06-.94-.94-2.06-.94 2.06-2.06.94zm-11 1L8.5 8.5l.94-2.06 2.06-.94-2.06-.94L8.5 2.5l-.94 2.06-2.06.94zm10 10l.94 2.06.94-2.06 2.06-.94-2.06-.94-.94-2.06-.94 2.06-2.06.94z\"/><path d=\"M17.41 7.96l-1.37-1.37c-.4-.4-.92-.59-1.43-.59-.52 0-1.04.2-1.43.59L10.3 9.45l-7.72 7.72c-.78.78-.78 2.05 0 2.83L4 21.41c.39.39.9.59 1.41.59.51 0 1.02-.2 1.41-.59l7.78-7.78 2.81-2.81c.8-.78.8-2.07 0-2.86zM5.41 20L4 18.59l7.72-7.72 1.47 1.35L5.41 20z\"/>\n",
              "  </svg>\n",
              "      </button>\n",
              "      \n",
              "  <style>\n",
              "    .colab-df-container {\n",
              "      display:flex;\n",
              "      flex-wrap:wrap;\n",
              "      gap: 12px;\n",
              "    }\n",
              "\n",
              "    .colab-df-convert {\n",
              "      background-color: #E8F0FE;\n",
              "      border: none;\n",
              "      border-radius: 50%;\n",
              "      cursor: pointer;\n",
              "      display: none;\n",
              "      fill: #1967D2;\n",
              "      height: 32px;\n",
              "      padding: 0 0 0 0;\n",
              "      width: 32px;\n",
              "    }\n",
              "\n",
              "    .colab-df-convert:hover {\n",
              "      background-color: #E2EBFA;\n",
              "      box-shadow: 0px 1px 2px rgba(60, 64, 67, 0.3), 0px 1px 3px 1px rgba(60, 64, 67, 0.15);\n",
              "      fill: #174EA6;\n",
              "    }\n",
              "\n",
              "    [theme=dark] .colab-df-convert {\n",
              "      background-color: #3B4455;\n",
              "      fill: #D2E3FC;\n",
              "    }\n",
              "\n",
              "    [theme=dark] .colab-df-convert:hover {\n",
              "      background-color: #434B5C;\n",
              "      box-shadow: 0px 1px 3px 1px rgba(0, 0, 0, 0.15);\n",
              "      filter: drop-shadow(0px 1px 2px rgba(0, 0, 0, 0.3));\n",
              "      fill: #FFFFFF;\n",
              "    }\n",
              "  </style>\n",
              "\n",
              "      <script>\n",
              "        const buttonEl =\n",
              "          document.querySelector('#df-a3f46356-ed52-4e9c-a1d4-ae652db15084 button.colab-df-convert');\n",
              "        buttonEl.style.display =\n",
              "          google.colab.kernel.accessAllowed ? 'block' : 'none';\n",
              "\n",
              "        async function convertToInteractive(key) {\n",
              "          const element = document.querySelector('#df-a3f46356-ed52-4e9c-a1d4-ae652db15084');\n",
              "          const dataTable =\n",
              "            await google.colab.kernel.invokeFunction('convertToInteractive',\n",
              "                                                     [key], {});\n",
              "          if (!dataTable) return;\n",
              "\n",
              "          const docLinkHtml = 'Like what you see? Visit the ' +\n",
              "            '<a target=\"_blank\" href=https://colab.research.google.com/notebooks/data_table.ipynb>data table notebook</a>'\n",
              "            + ' to learn more about interactive tables.';\n",
              "          element.innerHTML = '';\n",
              "          dataTable['output_type'] = 'display_data';\n",
              "          await google.colab.output.renderOutput(dataTable, element);\n",
              "          const docLink = document.createElement('div');\n",
              "          docLink.innerHTML = docLinkHtml;\n",
              "          element.appendChild(docLink);\n",
              "        }\n",
              "      </script>\n",
              "    </div>\n",
              "  </div>\n",
              "  "
            ],
            "text/plain": [
              "         ner  pos\n",
              "0      I-ORG  NNP\n",
              "1          O   JJ\n",
              "2          O   NN\n",
              "3          O    -\n",
              "4          O  NNP\n",
              "...      ...  ...\n",
              "26185      O  NNP\n",
              "26186      O    :\n",
              "26187      O  NNP\n",
              "26188      O  NNP\n",
              "26189      O  NNP\n",
              "\n",
              "[26190 rows x 2 columns]"
            ]
          },
          "metadata": {},
          "execution_count": 70
        }
      ]
    },
    {
      "cell_type": "markdown",
      "source": [
        "##  result attribute of NER and POS, find a way to explain any relationship (if exists) between found entities and their part of speech attributes. "
      ],
      "metadata": {
        "id": "D-KrQfJr5V_2"
      }
    },
    {
      "cell_type": "code",
      "source": [
        "import numpy as np\n",
        "DataFrame_Grouping = dataFrame_combine.groupby(['ner', 'pos']).size().rename(\"count\").reset_index()\n",
        "x2 = dataFrame_combine.groupby(['ner']).size().rename(\"NERcount\").reset_index()\n",
        "x2\n",
        "DataFrame_Grouping=DataFrame_Grouping.merge(x2)\n",
        "DataFrame_Grouping.reset_index(inplace=True,drop=True)\n",
        "DataFrame_Grouping['POS_Percent_For_NER']=np.round((DataFrame_Grouping['count']/DataFrame_Grouping['NERcount'])*100,2)\n",
        "del DataFrame_Grouping['NERcount']\n",
        "DataFrame_Grouping.sort_values(by=['ner','count'],ascending=False,inplace=True)\n",
        "DataFrame_Grouping.reset_index(inplace=True,drop=True)\n",
        "DataFrame_Grouping.head(20)"
      ],
      "metadata": {
        "id": "AMQoQmnmJ-m0",
        "colab": {
          "base_uri": "https://localhost:8080/",
          "height": 676
        },
        "outputId": "7086f766-b1ef-431a-b835-e0aad3e83e0f"
      },
      "execution_count": 122,
      "outputs": [
        {
          "output_type": "execute_result",
          "data": {
            "text/html": [
              "\n",
              "  <div id=\"df-d0c88d61-3de9-4bf8-b430-309c80a99a7e\">\n",
              "    <div class=\"colab-df-container\">\n",
              "      <div>\n",
              "<style scoped>\n",
              "    .dataframe tbody tr th:only-of-type {\n",
              "        vertical-align: middle;\n",
              "    }\n",
              "\n",
              "    .dataframe tbody tr th {\n",
              "        vertical-align: top;\n",
              "    }\n",
              "\n",
              "    .dataframe thead th {\n",
              "        text-align: right;\n",
              "    }\n",
              "</style>\n",
              "<table border=\"1\" class=\"dataframe\">\n",
              "  <thead>\n",
              "    <tr style=\"text-align: right;\">\n",
              "      <th></th>\n",
              "      <th>ner</th>\n",
              "      <th>pos</th>\n",
              "      <th>count</th>\n",
              "      <th>POS_Percent_For_NER</th>\n",
              "    </tr>\n",
              "  </thead>\n",
              "  <tbody>\n",
              "    <tr>\n",
              "      <th>0</th>\n",
              "      <td>O</td>\n",
              "      <td>NNP</td>\n",
              "      <td>3472</td>\n",
              "      <td>15.72</td>\n",
              "    </tr>\n",
              "    <tr>\n",
              "      <th>1</th>\n",
              "      <td>O</td>\n",
              "      <td>NN</td>\n",
              "      <td>2691</td>\n",
              "      <td>12.18</td>\n",
              "    </tr>\n",
              "    <tr>\n",
              "      <th>2</th>\n",
              "      <td>O</td>\n",
              "      <td>IN</td>\n",
              "      <td>2186</td>\n",
              "      <td>9.90</td>\n",
              "    </tr>\n",
              "    <tr>\n",
              "      <th>3</th>\n",
              "      <td>O</td>\n",
              "      <td>CD</td>\n",
              "      <td>1601</td>\n",
              "      <td>7.25</td>\n",
              "    </tr>\n",
              "    <tr>\n",
              "      <th>4</th>\n",
              "      <td>O</td>\n",
              "      <td>DT</td>\n",
              "      <td>1585</td>\n",
              "      <td>7.18</td>\n",
              "    </tr>\n",
              "    <tr>\n",
              "      <th>5</th>\n",
              "      <td>O</td>\n",
              "      <td>JJ</td>\n",
              "      <td>1348</td>\n",
              "      <td>6.10</td>\n",
              "    </tr>\n",
              "    <tr>\n",
              "      <th>6</th>\n",
              "      <td>O</td>\n",
              "      <td>VBD</td>\n",
              "      <td>1024</td>\n",
              "      <td>4.64</td>\n",
              "    </tr>\n",
              "    <tr>\n",
              "      <th>7</th>\n",
              "      <td>O</td>\n",
              "      <td>NNS</td>\n",
              "      <td>1020</td>\n",
              "      <td>4.62</td>\n",
              "    </tr>\n",
              "    <tr>\n",
              "      <th>8</th>\n",
              "      <td>O</td>\n",
              "      <td>.</td>\n",
              "      <td>997</td>\n",
              "      <td>4.51</td>\n",
              "    </tr>\n",
              "    <tr>\n",
              "      <th>9</th>\n",
              "      <td>O</td>\n",
              "      <td>,</td>\n",
              "      <td>823</td>\n",
              "      <td>3.73</td>\n",
              "    </tr>\n",
              "    <tr>\n",
              "      <th>10</th>\n",
              "      <td>O</td>\n",
              "      <td>VB</td>\n",
              "      <td>442</td>\n",
              "      <td>2.00</td>\n",
              "    </tr>\n",
              "    <tr>\n",
              "      <th>11</th>\n",
              "      <td>O</td>\n",
              "      <td>VBN</td>\n",
              "      <td>436</td>\n",
              "      <td>1.97</td>\n",
              "    </tr>\n",
              "    <tr>\n",
              "      <th>12</th>\n",
              "      <td>O</td>\n",
              "      <td>TO</td>\n",
              "      <td>435</td>\n",
              "      <td>1.97</td>\n",
              "    </tr>\n",
              "    <tr>\n",
              "      <th>13</th>\n",
              "      <td>O</td>\n",
              "      <td>CC</td>\n",
              "      <td>429</td>\n",
              "      <td>1.94</td>\n",
              "    </tr>\n",
              "    <tr>\n",
              "      <th>14</th>\n",
              "      <td>O</td>\n",
              "      <td>RB</td>\n",
              "      <td>407</td>\n",
              "      <td>1.84</td>\n",
              "    </tr>\n",
              "    <tr>\n",
              "      <th>15</th>\n",
              "      <td>O</td>\n",
              "      <td>PRP</td>\n",
              "      <td>393</td>\n",
              "      <td>1.78</td>\n",
              "    </tr>\n",
              "    <tr>\n",
              "      <th>16</th>\n",
              "      <td>O</td>\n",
              "      <td>VBZ</td>\n",
              "      <td>372</td>\n",
              "      <td>1.68</td>\n",
              "    </tr>\n",
              "    <tr>\n",
              "      <th>17</th>\n",
              "      <td>O</td>\n",
              "      <td>VBG</td>\n",
              "      <td>336</td>\n",
              "      <td>1.52</td>\n",
              "    </tr>\n",
              "    <tr>\n",
              "      <th>18</th>\n",
              "      <td>O</td>\n",
              "      <td>''</td>\n",
              "      <td>296</td>\n",
              "      <td>1.34</td>\n",
              "    </tr>\n",
              "    <tr>\n",
              "      <th>19</th>\n",
              "      <td>O</td>\n",
              "      <td>)</td>\n",
              "      <td>264</td>\n",
              "      <td>1.20</td>\n",
              "    </tr>\n",
              "  </tbody>\n",
              "</table>\n",
              "</div>\n",
              "      <button class=\"colab-df-convert\" onclick=\"convertToInteractive('df-d0c88d61-3de9-4bf8-b430-309c80a99a7e')\"\n",
              "              title=\"Convert this dataframe to an interactive table.\"\n",
              "              style=\"display:none;\">\n",
              "        \n",
              "  <svg xmlns=\"http://www.w3.org/2000/svg\" height=\"24px\"viewBox=\"0 0 24 24\"\n",
              "       width=\"24px\">\n",
              "    <path d=\"M0 0h24v24H0V0z\" fill=\"none\"/>\n",
              "    <path d=\"M18.56 5.44l.94 2.06.94-2.06 2.06-.94-2.06-.94-.94-2.06-.94 2.06-2.06.94zm-11 1L8.5 8.5l.94-2.06 2.06-.94-2.06-.94L8.5 2.5l-.94 2.06-2.06.94zm10 10l.94 2.06.94-2.06 2.06-.94-2.06-.94-.94-2.06-.94 2.06-2.06.94z\"/><path d=\"M17.41 7.96l-1.37-1.37c-.4-.4-.92-.59-1.43-.59-.52 0-1.04.2-1.43.59L10.3 9.45l-7.72 7.72c-.78.78-.78 2.05 0 2.83L4 21.41c.39.39.9.59 1.41.59.51 0 1.02-.2 1.41-.59l7.78-7.78 2.81-2.81c.8-.78.8-2.07 0-2.86zM5.41 20L4 18.59l7.72-7.72 1.47 1.35L5.41 20z\"/>\n",
              "  </svg>\n",
              "      </button>\n",
              "      \n",
              "  <style>\n",
              "    .colab-df-container {\n",
              "      display:flex;\n",
              "      flex-wrap:wrap;\n",
              "      gap: 12px;\n",
              "    }\n",
              "\n",
              "    .colab-df-convert {\n",
              "      background-color: #E8F0FE;\n",
              "      border: none;\n",
              "      border-radius: 50%;\n",
              "      cursor: pointer;\n",
              "      display: none;\n",
              "      fill: #1967D2;\n",
              "      height: 32px;\n",
              "      padding: 0 0 0 0;\n",
              "      width: 32px;\n",
              "    }\n",
              "\n",
              "    .colab-df-convert:hover {\n",
              "      background-color: #E2EBFA;\n",
              "      box-shadow: 0px 1px 2px rgba(60, 64, 67, 0.3), 0px 1px 3px 1px rgba(60, 64, 67, 0.15);\n",
              "      fill: #174EA6;\n",
              "    }\n",
              "\n",
              "    [theme=dark] .colab-df-convert {\n",
              "      background-color: #3B4455;\n",
              "      fill: #D2E3FC;\n",
              "    }\n",
              "\n",
              "    [theme=dark] .colab-df-convert:hover {\n",
              "      background-color: #434B5C;\n",
              "      box-shadow: 0px 1px 3px 1px rgba(0, 0, 0, 0.15);\n",
              "      filter: drop-shadow(0px 1px 2px rgba(0, 0, 0, 0.3));\n",
              "      fill: #FFFFFF;\n",
              "    }\n",
              "  </style>\n",
              "\n",
              "      <script>\n",
              "        const buttonEl =\n",
              "          document.querySelector('#df-d0c88d61-3de9-4bf8-b430-309c80a99a7e button.colab-df-convert');\n",
              "        buttonEl.style.display =\n",
              "          google.colab.kernel.accessAllowed ? 'block' : 'none';\n",
              "\n",
              "        async function convertToInteractive(key) {\n",
              "          const element = document.querySelector('#df-d0c88d61-3de9-4bf8-b430-309c80a99a7e');\n",
              "          const dataTable =\n",
              "            await google.colab.kernel.invokeFunction('convertToInteractive',\n",
              "                                                     [key], {});\n",
              "          if (!dataTable) return;\n",
              "\n",
              "          const docLinkHtml = 'Like what you see? Visit the ' +\n",
              "            '<a target=\"_blank\" href=https://colab.research.google.com/notebooks/data_table.ipynb>data table notebook</a>'\n",
              "            + ' to learn more about interactive tables.';\n",
              "          element.innerHTML = '';\n",
              "          dataTable['output_type'] = 'display_data';\n",
              "          await google.colab.output.renderOutput(dataTable, element);\n",
              "          const docLink = document.createElement('div');\n",
              "          docLink.innerHTML = docLinkHtml;\n",
              "          element.appendChild(docLink);\n",
              "        }\n",
              "      </script>\n",
              "    </div>\n",
              "  </div>\n",
              "  "
            ],
            "text/plain": [
              "   ner  pos  count  POS_Percent_For_NER\n",
              "0    O  NNP   3472                15.72\n",
              "1    O   NN   2691                12.18\n",
              "2    O   IN   2186                 9.90\n",
              "3    O   CD   1601                 7.25\n",
              "4    O   DT   1585                 7.18\n",
              "5    O   JJ   1348                 6.10\n",
              "6    O  VBD   1024                 4.64\n",
              "7    O  NNS   1020                 4.62\n",
              "8    O    .    997                 4.51\n",
              "9    O    ,    823                 3.73\n",
              "10   O   VB    442                 2.00\n",
              "11   O  VBN    436                 1.97\n",
              "12   O   TO    435                 1.97\n",
              "13   O   CC    429                 1.94\n",
              "14   O   RB    407                 1.84\n",
              "15   O  PRP    393                 1.78\n",
              "16   O  VBZ    372                 1.68\n",
              "17   O  VBG    336                 1.52\n",
              "18   O   ''    296                 1.34\n",
              "19   O    )    264                 1.20"
            ]
          },
          "metadata": {},
          "execution_count": 122
        }
      ]
    },
    {
      "cell_type": "markdown",
      "source": [
        "#### Observe by looking at NER percentages which POS has most presence for a specific NER.\n",
        "##### For example, if we are analyzing only for NER 'O', part of speech NNP, NN etc. combined together is more than 25%, hence it is very likely that NER 'O' is most likely a noun."
      ],
      "metadata": {
        "id": "C8dTZW1j7P-C"
      }
    },
    {
      "cell_type": "code",
      "source": [
        "DataFrame_Grouping.iloc[0:20].plot(kind = \"bar\" , x = \"pos\" , y =\"count\" ,figsize=(15, 7))"
      ],
      "metadata": {
        "colab": {
          "base_uri": "https://localhost:8080/",
          "height": 471
        },
        "id": "V75qD5DnDbvG",
        "outputId": "6c3ef1d9-170d-4276-8b0e-b005254e07ef"
      },
      "execution_count": 123,
      "outputs": [
        {
          "output_type": "execute_result",
          "data": {
            "text/plain": [
              "<matplotlib.axes._subplots.AxesSubplot at 0x7f8aca4ed710>"
            ]
          },
          "metadata": {},
          "execution_count": 123
        },
        {
          "output_type": "display_data",
          "data": {
            "image/png": "[encoded data removed]",
            "text/plain": [
              "<Figure size 1080x504 with 1 Axes>"
            ]
          },
          "metadata": {
            "needs_background": "light"
          }
        }
      ]
    },
    {
      "cell_type": "markdown",
      "source": [
        "## the most \"O\" catagorie represent **like** : "
      ],
      "metadata": {
        "id": "qQHjPaaQFbLF"
      }
    },
    {
      "cell_type": "code",
      "source": [
        "#drop ner \"O\" to make tables more spesific and have meaning\n",
        "rowsDeletion = DataFrame_Grouping[DataFrame_Grouping['ner']==\"O\" ].index.to_list()\n",
        "dataFrame_combine_Without_O=DataFrame_Grouping.drop(rowsDeletion)\n",
        "dataFrame_combine_Without_O.head(20)"
      ],
      "metadata": {
        "id": "CzkhdiNL5w5N",
        "colab": {
          "base_uri": "https://localhost:8080/",
          "height": 676
        },
        "outputId": "e66ffb07-b302-47bd-f583-c832dc675eb0"
      },
      "execution_count": 125,
      "outputs": [
        {
          "output_type": "execute_result",
          "data": {
            "text/html": [
              "\n",
              "  <div id=\"df-83ee3445-a4e4-45f1-a072-6b7d7aba3c3b\">\n",
              "    <div class=\"colab-df-container\">\n",
              "      <div>\n",
              "<style scoped>\n",
              "    .dataframe tbody tr th:only-of-type {\n",
              "        vertical-align: middle;\n",
              "    }\n",
              "\n",
              "    .dataframe tbody tr th {\n",
              "        vertical-align: top;\n",
              "    }\n",
              "\n",
              "    .dataframe thead th {\n",
              "        text-align: right;\n",
              "    }\n",
              "</style>\n",
              "<table border=\"1\" class=\"dataframe\">\n",
              "  <thead>\n",
              "    <tr style=\"text-align: right;\">\n",
              "      <th></th>\n",
              "      <th>ner</th>\n",
              "      <th>pos</th>\n",
              "      <th>count</th>\n",
              "      <th>POS_Percent_For_NER</th>\n",
              "    </tr>\n",
              "  </thead>\n",
              "  <tbody>\n",
              "    <tr>\n",
              "      <th>44</th>\n",
              "      <td>I-PER</td>\n",
              "      <td>NNP</td>\n",
              "      <td>490</td>\n",
              "      <td>33.65</td>\n",
              "    </tr>\n",
              "    <tr>\n",
              "      <th>45</th>\n",
              "      <td>I-PER</td>\n",
              "      <td>NN</td>\n",
              "      <td>146</td>\n",
              "      <td>10.03</td>\n",
              "    </tr>\n",
              "    <tr>\n",
              "      <th>46</th>\n",
              "      <td>I-PER</td>\n",
              "      <td>.</td>\n",
              "      <td>88</td>\n",
              "      <td>6.04</td>\n",
              "    </tr>\n",
              "    <tr>\n",
              "      <th>47</th>\n",
              "      <td>I-PER</td>\n",
              "      <td>IN</td>\n",
              "      <td>82</td>\n",
              "      <td>5.63</td>\n",
              "    </tr>\n",
              "    <tr>\n",
              "      <th>48</th>\n",
              "      <td>I-PER</td>\n",
              "      <td>CD</td>\n",
              "      <td>81</td>\n",
              "      <td>5.56</td>\n",
              "    </tr>\n",
              "    <tr>\n",
              "      <th>49</th>\n",
              "      <td>I-PER</td>\n",
              "      <td>(</td>\n",
              "      <td>77</td>\n",
              "      <td>5.29</td>\n",
              "    </tr>\n",
              "    <tr>\n",
              "      <th>50</th>\n",
              "      <td>I-PER</td>\n",
              "      <td>,</td>\n",
              "      <td>69</td>\n",
              "      <td>4.74</td>\n",
              "    </tr>\n",
              "    <tr>\n",
              "      <th>51</th>\n",
              "      <td>I-PER</td>\n",
              "      <td>JJ</td>\n",
              "      <td>60</td>\n",
              "      <td>4.12</td>\n",
              "    </tr>\n",
              "    <tr>\n",
              "      <th>52</th>\n",
              "      <td>I-PER</td>\n",
              "      <td>VBD</td>\n",
              "      <td>40</td>\n",
              "      <td>2.75</td>\n",
              "    </tr>\n",
              "    <tr>\n",
              "      <th>53</th>\n",
              "      <td>I-PER</td>\n",
              "      <td>NNS</td>\n",
              "      <td>39</td>\n",
              "      <td>2.68</td>\n",
              "    </tr>\n",
              "    <tr>\n",
              "      <th>54</th>\n",
              "      <td>I-PER</td>\n",
              "      <td>:</td>\n",
              "      <td>37</td>\n",
              "      <td>2.54</td>\n",
              "    </tr>\n",
              "    <tr>\n",
              "      <th>55</th>\n",
              "      <td>I-PER</td>\n",
              "      <td>DT</td>\n",
              "      <td>35</td>\n",
              "      <td>2.40</td>\n",
              "    </tr>\n",
              "    <tr>\n",
              "      <th>56</th>\n",
              "      <td>I-PER</td>\n",
              "      <td>)</td>\n",
              "      <td>32</td>\n",
              "      <td>2.20</td>\n",
              "    </tr>\n",
              "    <tr>\n",
              "      <th>57</th>\n",
              "      <td>I-PER</td>\n",
              "      <td>''</td>\n",
              "      <td>26</td>\n",
              "      <td>1.79</td>\n",
              "    </tr>\n",
              "    <tr>\n",
              "      <th>58</th>\n",
              "      <td>I-PER</td>\n",
              "      <td>VBZ</td>\n",
              "      <td>24</td>\n",
              "      <td>1.65</td>\n",
              "    </tr>\n",
              "    <tr>\n",
              "      <th>59</th>\n",
              "      <td>I-PER</td>\n",
              "      <td>RB</td>\n",
              "      <td>22</td>\n",
              "      <td>1.51</td>\n",
              "    </tr>\n",
              "    <tr>\n",
              "      <th>60</th>\n",
              "      <td>I-PER</td>\n",
              "      <td>POS</td>\n",
              "      <td>15</td>\n",
              "      <td>1.03</td>\n",
              "    </tr>\n",
              "    <tr>\n",
              "      <th>61</th>\n",
              "      <td>I-PER</td>\n",
              "      <td>VBG</td>\n",
              "      <td>15</td>\n",
              "      <td>1.03</td>\n",
              "    </tr>\n",
              "    <tr>\n",
              "      <th>62</th>\n",
              "      <td>I-PER</td>\n",
              "      <td>CC</td>\n",
              "      <td>12</td>\n",
              "      <td>0.82</td>\n",
              "    </tr>\n",
              "    <tr>\n",
              "      <th>63</th>\n",
              "      <td>I-PER</td>\n",
              "      <td>VB</td>\n",
              "      <td>12</td>\n",
              "      <td>0.82</td>\n",
              "    </tr>\n",
              "  </tbody>\n",
              "</table>\n",
              "</div>\n",
              "      <button class=\"colab-df-convert\" onclick=\"convertToInteractive('df-83ee3445-a4e4-45f1-a072-6b7d7aba3c3b')\"\n",
              "              title=\"Convert this dataframe to an interactive table.\"\n",
              "              style=\"display:none;\">\n",
              "        \n",
              "  <svg xmlns=\"http://www.w3.org/2000/svg\" height=\"24px\"viewBox=\"0 0 24 24\"\n",
              "       width=\"24px\">\n",
              "    <path d=\"M0 0h24v24H0V0z\" fill=\"none\"/>\n",
              "    <path d=\"M18.56 5.44l.94 2.06.94-2.06 2.06-.94-2.06-.94-.94-2.06-.94 2.06-2.06.94zm-11 1L8.5 8.5l.94-2.06 2.06-.94-2.06-.94L8.5 2.5l-.94 2.06-2.06.94zm10 10l.94 2.06.94-2.06 2.06-.94-2.06-.94-.94-2.06-.94 2.06-2.06.94z\"/><path d=\"M17.41 7.96l-1.37-1.37c-.4-.4-.92-.59-1.43-.59-.52 0-1.04.2-1.43.59L10.3 9.45l-7.72 7.72c-.78.78-.78 2.05 0 2.83L4 21.41c.39.39.9.59 1.41.59.51 0 1.02-.2 1.41-.59l7.78-7.78 2.81-2.81c.8-.78.8-2.07 0-2.86zM5.41 20L4 18.59l7.72-7.72 1.47 1.35L5.41 20z\"/>\n",
              "  </svg>\n",
              "      </button>\n",
              "      \n",
              "  <style>\n",
              "    .colab-df-container {\n",
              "      display:flex;\n",
              "      flex-wrap:wrap;\n",
              "      gap: 12px;\n",
              "    }\n",
              "\n",
              "    .colab-df-convert {\n",
              "      background-color: #E8F0FE;\n",
              "      border: none;\n",
              "      border-radius: 50%;\n",
              "      cursor: pointer;\n",
              "      display: none;\n",
              "      fill: #1967D2;\n",
              "      height: 32px;\n",
              "      padding: 0 0 0 0;\n",
              "      width: 32px;\n",
              "    }\n",
              "\n",
              "    .colab-df-convert:hover {\n",
              "      background-color: #E2EBFA;\n",
              "      box-shadow: 0px 1px 2px rgba(60, 64, 67, 0.3), 0px 1px 3px 1px rgba(60, 64, 67, 0.15);\n",
              "      fill: #174EA6;\n",
              "    }\n",
              "\n",
              "    [theme=dark] .colab-df-convert {\n",
              "      background-color: #3B4455;\n",
              "      fill: #D2E3FC;\n",
              "    }\n",
              "\n",
              "    [theme=dark] .colab-df-convert:hover {\n",
              "      background-color: #434B5C;\n",
              "      box-shadow: 0px 1px 3px 1px rgba(0, 0, 0, 0.15);\n",
              "      filter: drop-shadow(0px 1px 2px rgba(0, 0, 0, 0.3));\n",
              "      fill: #FFFFFF;\n",
              "    }\n",
              "  </style>\n",
              "\n",
              "      <script>\n",
              "        const buttonEl =\n",
              "          document.querySelector('#df-83ee3445-a4e4-45f1-a072-6b7d7aba3c3b button.colab-df-convert');\n",
              "        buttonEl.style.display =\n",
              "          google.colab.kernel.accessAllowed ? 'block' : 'none';\n",
              "\n",
              "        async function convertToInteractive(key) {\n",
              "          const element = document.querySelector('#df-83ee3445-a4e4-45f1-a072-6b7d7aba3c3b');\n",
              "          const dataTable =\n",
              "            await google.colab.kernel.invokeFunction('convertToInteractive',\n",
              "                                                     [key], {});\n",
              "          if (!dataTable) return;\n",
              "\n",
              "          const docLinkHtml = 'Like what you see? Visit the ' +\n",
              "            '<a target=\"_blank\" href=https://colab.research.google.com/notebooks/data_table.ipynb>data table notebook</a>'\n",
              "            + ' to learn more about interactive tables.';\n",
              "          element.innerHTML = '';\n",
              "          dataTable['output_type'] = 'display_data';\n",
              "          await google.colab.output.renderOutput(dataTable, element);\n",
              "          const docLink = document.createElement('div');\n",
              "          docLink.innerHTML = docLinkHtml;\n",
              "          element.appendChild(docLink);\n",
              "        }\n",
              "      </script>\n",
              "    </div>\n",
              "  </div>\n",
              "  "
            ],
            "text/plain": [
              "      ner  pos  count  POS_Percent_For_NER\n",
              "44  I-PER  NNP    490                33.65\n",
              "45  I-PER   NN    146                10.03\n",
              "46  I-PER    .     88                 6.04\n",
              "47  I-PER   IN     82                 5.63\n",
              "48  I-PER   CD     81                 5.56\n",
              "49  I-PER    (     77                 5.29\n",
              "50  I-PER    ,     69                 4.74\n",
              "51  I-PER   JJ     60                 4.12\n",
              "52  I-PER  VBD     40                 2.75\n",
              "53  I-PER  NNS     39                 2.68\n",
              "54  I-PER    :     37                 2.54\n",
              "55  I-PER   DT     35                 2.40\n",
              "56  I-PER    )     32                 2.20\n",
              "57  I-PER   ''     26                 1.79\n",
              "58  I-PER  VBZ     24                 1.65\n",
              "59  I-PER   RB     22                 1.51\n",
              "60  I-PER  POS     15                 1.03\n",
              "61  I-PER  VBG     15                 1.03\n",
              "62  I-PER   CC     12                 0.82\n",
              "63  I-PER   VB     12                 0.82"
            ]
          },
          "metadata": {},
          "execution_count": 125
        }
      ]
    },
    {
      "cell_type": "markdown",
      "source": [
        "#### now if we are analyzing this table , part of speech NNP, NN still take the top of percentage analysis combined together is more than 40%\n",
        "###### and it's named entity regression as PERSON name and that the results make a lot of sense, hence it is very likely that NER \"PER\" is most likely a noun."
      ],
      "metadata": {
        "id": "yor_IVRa7h-w"
      }
    },
    {
      "cell_type": "code",
      "source": [
        "dataFrame_combine_Without_O.iloc[0:20].plot(kind = \"bar\" , x = \"pos\" , y =\"count\" ,figsize=(15, 7))"
      ],
      "metadata": {
        "colab": {
          "base_uri": "https://localhost:8080/",
          "height": 471
        },
        "id": "N_d9i406GfBg",
        "outputId": "8fc8d8f3-5351-44ef-f006-7c5d3acc659d"
      },
      "execution_count": 126,
      "outputs": [
        {
          "output_type": "execute_result",
          "data": {
            "text/plain": [
              "<matplotlib.axes._subplots.AxesSubplot at 0x7f8aca443750>"
            ]
          },
          "metadata": {},
          "execution_count": 126
        },
        {
          "output_type": "display_data",
          "data": {
            "image/png": "[encoded data removed]",
            "text/plain": [
              "<Figure size 1080x504 with 1 Axes>"
            ]
          },
          "metadata": {
            "needs_background": "light"
          }
        }
      ]
    },
    {
      "cell_type": "code",
      "source": [
        "y = dataFrame_combine_Without_O.groupby(['ner']).sum('count')"
      ],
      "metadata": {
        "id": "SNmdJfoNpf8M"
      },
      "execution_count": 104,
      "outputs": []
    },
    {
      "cell_type": "code",
      "source": [
        "y.plot(kind= \"bar\", y = \"count\")"
      ],
      "metadata": {
        "colab": {
          "base_uri": "https://localhost:8080/",
          "height": 322
        },
        "id": "fT2ExZTGvWnc",
        "outputId": "6fdf8b27-4f07-4294-b49b-0c918b0aa5e0"
      },
      "execution_count": 107,
      "outputs": [
        {
          "output_type": "execute_result",
          "data": {
            "text/plain": [
              "<matplotlib.axes._subplots.AxesSubplot at 0x7f8acd9db5d0>"
            ]
          },
          "metadata": {},
          "execution_count": 107
        },
        {
          "output_type": "display_data",
          "data": {
            "image/png": "[encoded data removed]",
            "text/plain": [
              "<Figure size 432x288 with 1 Axes>"
            ]
          },
          "metadata": {
            "needs_background": "light"
          }
        }
      ]
    },
    {
      "cell_type": "markdown",
      "source": [
        "### Figure that **shows** most frequent NER Categorie appears :"
      ],
      "metadata": {
        "id": "ugc-EQqL8KRu"
      }
    },
    {
      "cell_type": "code",
      "source": [
        "z = dataFrame_combine_Without_O.groupby(['pos']).sum('count')"
      ],
      "metadata": {
        "id": "SBq9-reuvaHc"
      },
      "execution_count": 109,
      "outputs": []
    },
    {
      "cell_type": "code",
      "source": [
        "z.plot(kind= \"bar\", figsize=(15,7), y = \"count\")"
      ],
      "metadata": {
        "colab": {
          "base_uri": "https://localhost:8080/",
          "height": 478
        },
        "id": "eyMJYIX4vjKH",
        "outputId": "1a9763fb-c046-43f5-f485-9fde104f9d91"
      },
      "execution_count": 110,
      "outputs": [
        {
          "output_type": "execute_result",
          "data": {
            "text/plain": [
              "<matplotlib.axes._subplots.AxesSubplot at 0x7f8acda29f50>"
            ]
          },
          "metadata": {},
          "execution_count": 110
        },
        {
          "output_type": "display_data",
          "data": {
            "image/png": "[encoded data removed]",
            "text/plain": [
              "<Figure size 1080x504 with 1 Axes>"
            ]
          },
          "metadata": {
            "needs_background": "light"
          }
        }
      ]
    },
    {
      "cell_type": "markdown",
      "source": [
        "## Figure that **shows** most frequent POS Categorie appears :"
      ],
      "metadata": {
        "id": "WpO2CIsZ9T8U"
      }
    }
  ]
}